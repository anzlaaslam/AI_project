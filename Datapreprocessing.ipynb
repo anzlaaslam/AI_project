{
 "cells": [
  {
   "cell_type": "code",
   "execution_count": 19,
   "id": "3003a235",
   "metadata": {},
   "outputs": [
    {
     "name": "stdout",
     "output_type": "stream",
     "text": [
      "{'with mask': 0, 'without mask': 1}\n",
      "['with mask', 'without mask']\n",
      "[0, 1]\n"
     ]
    }
   ],
   "source": [
    "import cv2,os\n",
    "\n",
    "data_path='dataset'\n",
    "categories=os.listdir(data_path)   #####cateories include two folder data with and without mask\n",
    "labels=[i for i in range(len(categories))]\n",
    "\n",
    "label_dict=dict(zip(categories,labels)) #null dict\n",
    "\n",
    "print(label_dict)\n",
    "print(categories)\n",
    "print(labels)"
   ]
  },
  {
   "cell_type": "code",
   "execution_count": 20,
   "id": "c8da2776",
   "metadata": {},
   "outputs": [],
   "source": [
    "img_size=100\n",
    "data=[]   #images saved here\n",
    "target=[]   # here labels a saved 0 for mask and 1 no mask\n",
    "\n",
    "\n",
    "for category in categories:\n",
    "    folder_path=os.path.join(data_path,category)\n",
    "    img_names=os.listdir(folder_path)\n",
    "        \n",
    "    for img_name in img_names:\n",
    "        img_path=os.path.join(folder_path,img_name)\n",
    "        img=cv2.imread(img_path)  ## looping through all images and plaing it in img\n",
    "\n",
    "        try:\n",
    "            gray=cv2.cvtColor(img,cv2.COLOR_BGR2GRAY)        ### converting to grey color     \n",
    "            #Coverting the image into gray scale\n",
    "            resized=cv2.resize(gray,(img_size,img_size))    ###resizing all impages 100by100 \n",
    "            data.append(resized)  ## appending resixed images to data list\n",
    "            target.append(label_dict[category]) #appending labels for images 0 or 1   \n",
    "          \n",
    "        except Exception as e:\n",
    "            print('Exception:',e)  ## missing images can rasie exceptions\n",
    "          "
   ]
  },
  {
   "cell_type": "code",
   "execution_count": 21,
   "id": "0a8a767b",
   "metadata": {},
   "outputs": [],
   "source": [
    "import numpy as np\n",
    "\n",
    "data=np.array(data)/255.0   #3normalizing images in a range 0 to 1\n",
    "data=np.reshape(data,(data.shape[0],img_size,img_size,1))   ##reshaping to 4 dimensonal array 1 since imagess are grey scale\n",
    "target=np.array(target)  ## converting target to numpy array\n",
    "\n",
    "from keras.utils import np_utils\n",
    "\n",
    "new_target=np_utils.to_categorical(target)  ##since the final output of nn is catagorical to we convert target to two categories"
   ]
  },
  {
   "cell_type": "code",
   "execution_count": 22,
   "id": "7fade00a",
   "metadata": {},
   "outputs": [],
   "source": [
    "np.save('data',data)\n",
    "np.save('target',new_target)"
   ]
  }
 ],
 "metadata": {
  "kernelspec": {
   "display_name": "Python 3 (ipykernel)",
   "language": "python",
   "name": "python3"
  },
  "language_info": {
   "codemirror_mode": {
    "name": "ipython",
    "version": 3
   },
   "file_extension": ".py",
   "mimetype": "text/x-python",
   "name": "python",
   "nbconvert_exporter": "python",
   "pygments_lexer": "ipython3",
   "version": "3.10.9"
  }
 },
 "nbformat": 4,
 "nbformat_minor": 5
}
